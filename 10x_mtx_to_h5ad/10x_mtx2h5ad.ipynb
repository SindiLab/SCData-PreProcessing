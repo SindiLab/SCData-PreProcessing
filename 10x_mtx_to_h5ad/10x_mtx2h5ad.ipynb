{
 "cells": [
  {
   "cell_type": "markdown",
   "metadata": {},
   "source": [
    "# Convert 10x `mtx` data to `H5AD` \n",
    "\n",
    "Even though `scanpy` has a specialized function for 10x Genomics' `mtx` format, it may be useful to know how to read it in manually."
   ]
  },
  {
   "cell_type": "code",
   "execution_count": 1,
   "metadata": {},
   "outputs": [],
   "source": [
    "import scanpy as sc\n",
    "import os\n",
    "import csv"
   ]
  },
  {
   "cell_type": "markdown",
   "metadata": {},
   "source": [
    "### Set up the I/O parameters"
   ]
  },
  {
   "cell_type": "code",
   "execution_count": 2,
   "metadata": {},
   "outputs": [],
   "source": [
    "dataset_dir = \"/home/ubuntu/SCRealVAE_68K/Raw_Data/filtered_matrices_mex/hg19/\"\n",
    "data_file = \"matrix.mtx\"\n",
    "var_names_file = \"genes.tsv\"\n",
    "obs_names_file = \"barcodes.tsv\"\n",
    "output_h5ad_file = \"/home/ubuntu/SCRealVAE_68K/Raw_Data/raw_68kPBMCs.h5ad\"\n",
    "\n",
    "data_path = os.path.join(dataset_dir,data_file)\n",
    "var_names_path = os.path.join(dataset_dir,var_names_file)\n",
    "obs_names_path = os.path.join(dataset_dir,obs_names_file)\n",
    "output_h5ad_path = os.path.join(dataset_dir,output_h5ad_file)"
   ]
  },
  {
   "cell_type": "markdown",
   "metadata": {},
   "source": [
    "## Load in genes/features"
   ]
  },
  {
   "cell_type": "code",
   "execution_count": 3,
   "metadata": {},
   "outputs": [],
   "source": [
    "with open(var_names_path, \"r\") as var_file:\n",
    "    var_read = csv.reader(var_file, delimiter='\\t')\n",
    "    var_names = []\n",
    "    for row in var_read:\n",
    "        var_names.append(row[1])"
   ]
  },
  {
   "cell_type": "markdown",
   "metadata": {},
   "source": [
    "### Load in UMI names (obervations)"
   ]
  },
  {
   "cell_type": "code",
   "execution_count": 4,
   "metadata": {},
   "outputs": [],
   "source": [
    "with open(obs_names_path, \"r\") as obs_file:\n",
    "    obs_read = csv.reader(obs_file, delimiter='\\t')\n",
    "    obs_names = []\n",
    "    for row in obs_read:\n",
    "        obs_names.append(row[0])"
   ]
  },
  {
   "cell_type": "markdown",
   "metadata": {},
   "source": [
    "### Use `scanpy` to read in the `mtx` data (be patient for this par)"
   ]
  },
  {
   "cell_type": "code",
   "execution_count": 5,
   "metadata": {},
   "outputs": [],
   "source": [
    "adata = sc.read(data_path) \n",
    "adata = adata.transpose()"
   ]
  },
  {
   "cell_type": "markdown",
   "metadata": {},
   "source": [
    "### Loading the gene and UMI names and making them unique"
   ]
  },
  {
   "cell_type": "code",
   "execution_count": 6,
   "metadata": {},
   "outputs": [],
   "source": [
    "adata.var_names = var_names\n",
    "adata.var_names_make_unique()\n",
    "adata.obs_names = obs_names\n",
    "adata.obs_names_make_unique()"
   ]
  },
  {
   "cell_type": "markdown",
   "metadata": {},
   "source": [
    "### Write out the data"
   ]
  },
  {
   "cell_type": "code",
   "execution_count": 7,
   "metadata": {},
   "outputs": [],
   "source": [
    "adata.write(filename=output_h5ad_path)"
   ]
  }
 ],
 "metadata": {
  "kernelspec": {
   "display_name": "Python 3",
   "language": "python",
   "name": "python3"
  },
  "language_info": {
   "codemirror_mode": {
    "name": "ipython",
    "version": 3
   },
   "file_extension": ".py",
   "mimetype": "text/x-python",
   "name": "python",
   "nbconvert_exporter": "python",
   "pygments_lexer": "ipython3",
   "version": "3.7.6"
  }
 },
 "nbformat": 4,
 "nbformat_minor": 4
}
